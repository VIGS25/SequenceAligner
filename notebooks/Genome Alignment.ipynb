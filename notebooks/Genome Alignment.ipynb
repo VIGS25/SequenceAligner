{
 "cells": [
  {
   "cell_type": "markdown",
   "metadata": {},
   "source": [
    "## Processing Input and Output"
   ]
  },
  {
   "cell_type": "code",
   "execution_count": 66,
   "metadata": {},
   "outputs": [],
   "source": [
    "from readAligner import readAlign\n",
    "import json\n",
    "\n",
    "rA = readAlign()\n",
    "\n",
    "with open(\"genomeIndex.txt\") as f:\n",
    "    genIndex = json.load(f)\n",
    "\n",
    "with open(\"revGenomeIndex.txt\") as f:\n",
    "    revIndex = json.load(f)\n",
    "\n",
    "read = 'CCCGCTCTGTCGCCCAGGCTGGAGTACAGTGGCACGATCTCGGCTCACTGCAACCTACGCCTCCTGGGTTCAAGTGATTCTCCTGCCTCAGCCTCCCGAGTAGCTTGGACTACAGGCACTTGCCA'\n",
    "\n",
    "kmers = []\n",
    "\n",
    "k = 20\n",
    "kmerSpacing = 10\n",
    "trials = range(kmerSpacing*5)\n",
    "\n",
    "for startLoc in trials:\n",
    "    kmer = read[startLoc:startLoc + k]\n",
    "    if kmer in genIndex or kmer in revIndex:\n",
    "        start = startLoc\n",
    "        break\n",
    "\n",
    "for i in range(start, len(read) - k + 1, kmerSpacing):\n",
    "    kmers.append(read[i:i + k])\n",
    "\n",
    "hitsFor = []\n",
    "hitsRev = []\n",
    "\n",
    "for kmer in kmers:\n",
    "\n",
    "    if kmer in genIndex:\n",
    "        hitsFor.append(genIndex[kmer])\n",
    "    elif kmer in revIndex:\n",
    "        hitsRev.append(revIndex[kmer])\n",
    "\n",
    "\n",
    "candidates = []\n",
    "limit = 0\n",
    "import numpy as np\n",
    "\n",
    "hitsFor = np.array(hitsFor)\n",
    "candidates.extend(hitsFor[0])\n",
    "\n",
    "while limit < min(len(hitsFor), 4):\n",
    "    focus = hitsFor[limit]\n",
    "\n",
    "    for i in range(len(focus)):\n",
    "        for j in range(limit + 1, len(hitsFor)):\n",
    "            \n",
    "            pos = list(map(lambda x: x if abs(x - focus[i]) > len(read) else None, hitsFor[j]))\n",
    "            candidates.extend(pos)\n",
    "\n",
    "    limit += 1\n",
    "\n",
    "candidates = list(filter(partial(is_not, None), candidates))"
   ]
  },
  {
   "cell_type": "code",
   "execution_count": 65,
   "metadata": {},
   "outputs": [
    {
     "data": {
      "text/plain": [
       "[1670, 840, 850]"
      ]
     },
     "execution_count": 65,
     "metadata": {},
     "output_type": "execute_result"
    }
   ],
   "source": [
    "candidates"
   ]
  },
  {
   "cell_type": "code",
   "execution_count": 67,
   "metadata": {},
   "outputs": [
    {
     "name": "stdout",
     "output_type": "stream",
     "text": [
      "[[1670]\n",
      " [ 840]\n",
      " [ 850]]\n"
     ]
    }
   ],
   "source": [
    "print(hitsFor)"
   ]
  },
  {
   "cell_type": "code",
   "execution_count": 60,
   "metadata": {
    "collapsed": true
   },
   "outputs": [],
   "source": [
    "from functools import partial\n",
    "from operator import is_not\n",
    "L = [0, 23, 234, 89, None, 0, 35, 9]"
   ]
  },
  {
   "cell_type": "code",
   "execution_count": 61,
   "metadata": {},
   "outputs": [
    {
     "data": {
      "text/plain": [
       "<filter at 0x2dabb1ed1d0>"
      ]
     },
     "execution_count": 61,
     "metadata": {},
     "output_type": "execute_result"
    }
   ],
   "source": [
    "filter(partial(is_not, None), L)"
   ]
  },
  {
   "cell_type": "code",
   "execution_count": null,
   "metadata": {
    "collapsed": true
   },
   "outputs": [],
   "source": []
  }
 ],
 "metadata": {
  "kernelspec": {
   "display_name": "Python 3",
   "language": "python",
   "name": "python3"
  },
  "language_info": {
   "codemirror_mode": {
    "name": "ipython",
    "version": 3
   },
   "file_extension": ".py",
   "mimetype": "text/x-python",
   "name": "python",
   "nbconvert_exporter": "python",
   "pygments_lexer": "ipython3",
   "version": "3.6.1"
  }
 },
 "nbformat": 4,
 "nbformat_minor": 2
}
